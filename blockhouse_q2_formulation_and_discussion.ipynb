{
 "cells": [
  {
   "cell_type": "markdown",
   "id": "3b5b66ce",
   "metadata": {},
   "source": [
    "### Interpretation\n\n",
    "- Using real snapshots from the limit order book, we fit power-law models of the form $g_t(x) = a x^{\\alpha}$.\n",
    "- Across the three stocks, all estimated $\\alpha$ values were less than 1, confirming the concavity of market impact.\n",
    "- The stock **CRWV** displayed the steepest curve, meaning its slippage is more sensitive to trade size."
   ]
  },
  {
   "cell_type": "markdown",
   "id": "4019c992",
   "metadata": {},
   "source": [
    "# Blockhouse Work Trial – Question 2\n\n",
    "## Problem Setup\n",
    "Let $x = (x_1, x_2, ..., x_T)$ denote the share quantities to execute at each minute $t_i$, where:\n",
    "- $x_i \\geq 0$ is the number of shares executed at minute $t_i$\n",
    "- $T = 390$ (number of trading minutes in a US trading day)\n",
    "- $\\sum_{i=1}^{T} x_i = S$, where $S$ is the total target size to be traded"
   ]
  },
  {
   "cell_type": "markdown",
   "id": "caef9e7b",
   "metadata": {},
   "source": [
    "## Convex Optimization Formulation\n\n",
    "Empirical fitting gives the temporary market impact as:\n",
    "$$g_i(x_i) = a_i x_i^{\\alpha_i}$$\n\n",
    "Execution cost at time $t_i$ is:\n",
    "$$C_i = x_i \\cdot g_i(x_i) = a_i x_i^{1 + \\alpha_i}$$\n\n",
    "We minimize total cost:\n",
    "$$\\min_{x_1, ..., x_T} \\sum_{i=1}^{T} a_i x_i^{1+\\alpha_i} \\quad \\text{subject to} \\quad \\sum_{i=1}^{T} x_i = S,\\quad x_i \\geq 0$$"
   ]
  },
  {
   "cell_type": "markdown",
   "id": "18bec98a",
   "metadata": {},
   "source": [
    "## Solution Approach\n\n",
    "- This objective is convex due to $\\alpha_i > 0$\n",
    "- If all $a_i, \\alpha_i$ are constant, we derive a closed-form solution using the KKT conditions\n",
    "- When $a_i, \\alpha_i$ vary across time, we use a solver like **cvxpy** for numerical optimization\n",
    "- For non-DCP-compliant forms, we use a **lookup-based approximation** for $x \\cdot g(x)$ and interpolate cost\n\n",
    "The general form of the Lagrangian is:\n",
    "$$\\mathcal{L}(x, \\lambda) = \\sum_{i=1}^{T} a_i x_i^{1 + \\alpha_i} + \\lambda (\\sum x_i - S)$$"
   ]
  }
 ],
 "metadata": {},
 "nbformat": 4,
 "nbformat_minor": 5
}
